{
 "cells": [
  {
   "cell_type": "code",
   "execution_count": 1,
   "metadata": {},
   "outputs": [
    {
     "name": "stdout",
     "output_type": "stream",
     "text": [
      "Requirement already satisfied: ipywidgets in c:\\python311\\lib\\site-packages (8.1.1)\n",
      "Requirement already satisfied: comm>=0.1.3 in c:\\users\\dell\\appdata\\roaming\\python\\python311\\site-packages (from ipywidgets) (0.2.0)\n",
      "Requirement already satisfied: ipython>=6.1.0 in c:\\users\\dell\\appdata\\roaming\\python\\python311\\site-packages (from ipywidgets) (8.17.2)\n",
      "Requirement already satisfied: traitlets>=4.3.1 in c:\\users\\dell\\appdata\\roaming\\python\\python311\\site-packages (from ipywidgets) (5.13.0)\n",
      "Requirement already satisfied: widgetsnbextension~=4.0.9 in c:\\python311\\lib\\site-packages (from ipywidgets) (4.0.9)\n",
      "Requirement already satisfied: jupyterlab-widgets~=3.0.9 in c:\\python311\\lib\\site-packages (from ipywidgets) (3.0.9)\n",
      "Requirement already satisfied: decorator in c:\\users\\dell\\appdata\\roaming\\python\\python311\\site-packages (from ipython>=6.1.0->ipywidgets) (5.1.1)\n",
      "Requirement already satisfied: jedi>=0.16 in c:\\users\\dell\\appdata\\roaming\\python\\python311\\site-packages (from ipython>=6.1.0->ipywidgets) (0.19.1)\n",
      "Requirement already satisfied: matplotlib-inline in c:\\users\\dell\\appdata\\roaming\\python\\python311\\site-packages (from ipython>=6.1.0->ipywidgets) (0.1.6)\n",
      "Requirement already satisfied: prompt-toolkit!=3.0.37,<3.1.0,>=3.0.30 in c:\\users\\dell\\appdata\\roaming\\python\\python311\\site-packages (from ipython>=6.1.0->ipywidgets) (3.0.41)\n",
      "Requirement already satisfied: pygments>=2.4.0 in c:\\users\\dell\\appdata\\roaming\\python\\python311\\site-packages (from ipython>=6.1.0->ipywidgets) (2.16.1)\n",
      "Requirement already satisfied: stack-data in c:\\users\\dell\\appdata\\roaming\\python\\python311\\site-packages (from ipython>=6.1.0->ipywidgets) (0.6.3)\n",
      "Requirement already satisfied: colorama in c:\\users\\dell\\appdata\\roaming\\python\\python311\\site-packages (from ipython>=6.1.0->ipywidgets) (0.4.6)\n",
      "Requirement already satisfied: parso<0.9.0,>=0.8.3 in c:\\users\\dell\\appdata\\roaming\\python\\python311\\site-packages (from jedi>=0.16->ipython>=6.1.0->ipywidgets) (0.8.3)\n",
      "Requirement already satisfied: wcwidth in c:\\users\\dell\\appdata\\roaming\\python\\python311\\site-packages (from prompt-toolkit!=3.0.37,<3.1.0,>=3.0.30->ipython>=6.1.0->ipywidgets) (0.2.10)\n",
      "Requirement already satisfied: executing>=1.2.0 in c:\\users\\dell\\appdata\\roaming\\python\\python311\\site-packages (from stack-data->ipython>=6.1.0->ipywidgets) (2.0.1)\n",
      "Requirement already satisfied: asttokens>=2.1.0 in c:\\users\\dell\\appdata\\roaming\\python\\python311\\site-packages (from stack-data->ipython>=6.1.0->ipywidgets) (2.4.1)\n",
      "Requirement already satisfied: pure-eval in c:\\users\\dell\\appdata\\roaming\\python\\python311\\site-packages (from stack-data->ipython>=6.1.0->ipywidgets) (0.2.2)\n",
      "Requirement already satisfied: six>=1.12.0 in c:\\python311\\lib\\site-packages (from asttokens>=2.1.0->stack-data->ipython>=6.1.0->ipywidgets) (1.16.0)\n",
      "Note: you may need to restart the kernel to use updated packages.\n"
     ]
    },
    {
     "name": "stderr",
     "output_type": "stream",
     "text": [
      "\n",
      "[notice] A new release of pip available: 22.3.1 -> 23.3.1\n",
      "[notice] To update, run: python.exe -m pip install --upgrade pip\n"
     ]
    }
   ],
   "source": [
    "%pip install ipywidgets"
   ]
  },
  {
   "cell_type": "code",
   "execution_count": 2,
   "metadata": {},
   "outputs": [
    {
     "name": "stdout",
     "output_type": "stream",
     "text": [
      "WARNING:tensorflow:From c:\\Python311\\Lib\\site-packages\\keras\\src\\losses.py:2976: The name tf.losses.sparse_softmax_cross_entropy is deprecated. Please use tf.compat.v1.losses.sparse_softmax_cross_entropy instead.\n",
      "\n",
      "WARNING:tensorflow:From c:\\Python311\\Lib\\site-packages\\keras\\src\\backend.py:1398: The name tf.executing_eagerly_outside_functions is deprecated. Please use tf.compat.v1.executing_eagerly_outside_functions instead.\n",
      "\n",
      "WARNING:tensorflow:From c:\\Python311\\Lib\\site-packages\\keras\\src\\optimizers\\__init__.py:309: The name tf.train.Optimizer is deprecated. Please use tf.compat.v1.train.Optimizer instead.\n",
      "\n",
      "Epoch 1/50\n",
      "WARNING:tensorflow:From c:\\Python311\\Lib\\site-packages\\keras\\src\\utils\\tf_utils.py:492: The name tf.ragged.RaggedTensorValue is deprecated. Please use tf.compat.v1.ragged.RaggedTensorValue instead.\n",
      "\n",
      "832/832 [==============================] - 5s 5ms/step - loss: 32.3214 - val_loss: 22.8857\n",
      "Epoch 2/50\n",
      "832/832 [==============================] - 4s 5ms/step - loss: 22.3488 - val_loss: 21.9854\n",
      "Epoch 3/50\n",
      "832/832 [==============================] - 4s 5ms/step - loss: 22.2671 - val_loss: 22.0464\n",
      "Epoch 4/50\n",
      "832/832 [==============================] - 4s 5ms/step - loss: 22.2480 - val_loss: 22.4845\n",
      "Epoch 5/50\n",
      "832/832 [==============================] - 4s 5ms/step - loss: 22.1919 - val_loss: 21.8689\n",
      "Epoch 6/50\n",
      "832/832 [==============================] - 4s 5ms/step - loss: 22.1496 - val_loss: 21.9460\n",
      "Epoch 7/50\n",
      "832/832 [==============================] - 4s 5ms/step - loss: 22.1256 - val_loss: 22.1578\n",
      "Epoch 8/50\n",
      "832/832 [==============================] - 4s 5ms/step - loss: 22.0876 - val_loss: 21.8254\n",
      "Epoch 9/50\n",
      "832/832 [==============================] - 4s 5ms/step - loss: 22.1607 - val_loss: 22.6483\n",
      "Epoch 10/50\n",
      "832/832 [==============================] - 4s 5ms/step - loss: 22.0782 - val_loss: 21.9172\n",
      "Epoch 11/50\n",
      "832/832 [==============================] - 4s 5ms/step - loss: 22.0667 - val_loss: 21.9680\n",
      "Epoch 12/50\n",
      "832/832 [==============================] - 4s 5ms/step - loss: 22.0811 - val_loss: 21.7524\n",
      "Epoch 13/50\n",
      "832/832 [==============================] - 4s 5ms/step - loss: 22.0324 - val_loss: 21.7166\n",
      "Epoch 14/50\n",
      "832/832 [==============================] - 4s 5ms/step - loss: 22.0212 - val_loss: 22.3429\n",
      "Epoch 15/50\n",
      "832/832 [==============================] - 4s 5ms/step - loss: 22.0452 - val_loss: 21.7950\n",
      "Epoch 16/50\n",
      "832/832 [==============================] - 4s 5ms/step - loss: 21.9985 - val_loss: 21.8392\n",
      "Epoch 17/50\n",
      "832/832 [==============================] - 4s 5ms/step - loss: 22.0084 - val_loss: 21.7037\n",
      "Epoch 18/50\n",
      "832/832 [==============================] - 4s 5ms/step - loss: 21.9960 - val_loss: 21.7194\n",
      "Epoch 19/50\n",
      "832/832 [==============================] - 5s 6ms/step - loss: 21.9877 - val_loss: 21.9301\n",
      "Epoch 20/50\n",
      "832/832 [==============================] - 5s 6ms/step - loss: 21.9159 - val_loss: 21.6464\n",
      "Epoch 21/50\n",
      "832/832 [==============================] - 5s 5ms/step - loss: 21.8029 - val_loss: 21.4643\n",
      "Epoch 22/50\n",
      "832/832 [==============================] - 4s 5ms/step - loss: 21.6804 - val_loss: 21.3572\n",
      "Epoch 23/50\n",
      "832/832 [==============================] - 4s 5ms/step - loss: 21.6257 - val_loss: 21.7830\n",
      "Epoch 24/50\n",
      "832/832 [==============================] - 4s 5ms/step - loss: 21.5088 - val_loss: 21.2446\n",
      "Epoch 25/50\n",
      "832/832 [==============================] - 4s 5ms/step - loss: 21.4417 - val_loss: 21.1177\n",
      "Epoch 26/50\n",
      "832/832 [==============================] - 4s 5ms/step - loss: 21.3566 - val_loss: 21.2440\n",
      "Epoch 27/50\n",
      "832/832 [==============================] - 4s 5ms/step - loss: 21.2833 - val_loss: 20.9650\n",
      "Epoch 28/50\n",
      "832/832 [==============================] - 4s 5ms/step - loss: 21.2049 - val_loss: 20.8964\n",
      "Epoch 29/50\n",
      "832/832 [==============================] - 5s 6ms/step - loss: 21.1162 - val_loss: 21.1934\n",
      "Epoch 30/50\n",
      "832/832 [==============================] - 4s 5ms/step - loss: 21.0873 - val_loss: 20.8126\n",
      "Epoch 31/50\n",
      "832/832 [==============================] - 5s 5ms/step - loss: 21.0290 - val_loss: 21.0420\n",
      "Epoch 32/50\n",
      "832/832 [==============================] - 5s 5ms/step - loss: 21.0175 - val_loss: 20.6724\n",
      "Epoch 33/50\n",
      "832/832 [==============================] - 4s 5ms/step - loss: 20.8881 - val_loss: 20.6874\n",
      "Epoch 34/50\n",
      "832/832 [==============================] - 5s 6ms/step - loss: 20.8357 - val_loss: 20.6729\n",
      "Epoch 35/50\n",
      "832/832 [==============================] - 4s 5ms/step - loss: 20.7452 - val_loss: 20.5201\n",
      "Epoch 36/50\n",
      "832/832 [==============================] - 5s 5ms/step - loss: 20.7108 - val_loss: 20.6637\n",
      "Epoch 37/50\n",
      "832/832 [==============================] - 4s 5ms/step - loss: 20.6130 - val_loss: 20.4429\n",
      "Epoch 38/50\n",
      "832/832 [==============================] - 4s 5ms/step - loss: 20.4867 - val_loss: 20.2210\n",
      "Epoch 39/50\n",
      "832/832 [==============================] - 4s 5ms/step - loss: 20.4071 - val_loss: 20.0933\n",
      "Epoch 40/50\n",
      "832/832 [==============================] - 4s 5ms/step - loss: 20.2254 - val_loss: 19.9645\n",
      "Epoch 41/50\n",
      "832/832 [==============================] - 4s 5ms/step - loss: 20.1269 - val_loss: 19.8228\n",
      "Epoch 42/50\n",
      "832/832 [==============================] - 5s 7ms/step - loss: 20.0716 - val_loss: 19.7126\n",
      "Epoch 43/50\n",
      "832/832 [==============================] - 4s 5ms/step - loss: 19.9418 - val_loss: 19.6324\n",
      "Epoch 44/50\n",
      "832/832 [==============================] - 4s 5ms/step - loss: 19.8442 - val_loss: 19.7460\n",
      "Epoch 45/50\n",
      "832/832 [==============================] - 4s 5ms/step - loss: 19.7579 - val_loss: 19.4459\n",
      "Epoch 46/50\n",
      "832/832 [==============================] - 4s 5ms/step - loss: 19.6485 - val_loss: 19.3507\n",
      "Epoch 47/50\n",
      "832/832 [==============================] - 5s 6ms/step - loss: 19.5714 - val_loss: 19.2621\n",
      "Epoch 48/50\n",
      "832/832 [==============================] - 4s 5ms/step - loss: 19.4939 - val_loss: 19.4258\n",
      "Epoch 49/50\n",
      "832/832 [==============================] - 4s 5ms/step - loss: 19.3809 - val_loss: 19.3143\n",
      "Epoch 50/50\n",
      "832/832 [==============================] - 4s 5ms/step - loss: 19.3414 - val_loss: 19.0729\n",
      "713/713 [==============================] - 2s 2ms/step\n"
     ]
    },
    {
     "data": {
      "application/vnd.jupyter.widget-view+json": {
       "model_id": "55395909cfe04de1bb0198771b97aacd",
       "version_major": 2,
       "version_minor": 0
      },
      "text/plain": [
       "Dropdown(description='Select Venue:', options=('M Chinnaswamy Stadium', 'Punjab Cricket Association Stadium, M…"
      ]
     },
     "metadata": {},
     "output_type": "display_data"
    },
    {
     "data": {
      "application/vnd.jupyter.widget-view+json": {
       "model_id": "ef654b5dc85f4cb5967c83754d51733f",
       "version_major": 2,
       "version_minor": 0
      },
      "text/plain": [
       "Dropdown(description='Select Batting Team:', options=('Kolkata Knight Riders', 'Chennai Super Kings', 'Rajasth…"
      ]
     },
     "metadata": {},
     "output_type": "display_data"
    },
    {
     "data": {
      "application/vnd.jupyter.widget-view+json": {
       "model_id": "d479990680d14a0b8c8292c4934e9c17",
       "version_major": 2,
       "version_minor": 0
      },
      "text/plain": [
       "Dropdown(description='Select Batting Team:', options=('Royal Challengers Bangalore', 'Kings XI Punjab', 'Delhi…"
      ]
     },
     "metadata": {},
     "output_type": "display_data"
    },
    {
     "data": {
      "application/vnd.jupyter.widget-view+json": {
       "model_id": "55e5df7d5a3448819204cff3d3aa6d0f",
       "version_major": 2,
       "version_minor": 0
      },
      "text/plain": [
       "Dropdown(description='Select Striker:', options=('SC Ganguly', 'BB McCullum', 'RT Ponting', 'DJ Hussey', 'Moha…"
      ]
     },
     "metadata": {},
     "output_type": "display_data"
    },
    {
     "data": {
      "application/vnd.jupyter.widget-view+json": {
       "model_id": "07bd325293e742709eab44c61a5c1b85",
       "version_major": 2,
       "version_minor": 0
      },
      "text/plain": [
       "Dropdown(description='Select Bowler:', options=('P Kumar', 'Z Khan', 'AA Noffke', 'JH Kallis', 'SB Joshi', 'CL…"
      ]
     },
     "metadata": {},
     "output_type": "display_data"
    },
    {
     "data": {
      "application/vnd.jupyter.widget-view+json": {
       "model_id": "300802e6e3874528a402b6a04ef44824",
       "version_major": 2,
       "version_minor": 0
      },
      "text/plain": [
       "Button(description='Predict Score', style=ButtonStyle())"
      ]
     },
     "metadata": {},
     "output_type": "display_data"
    },
    {
     "data": {
      "application/vnd.jupyter.widget-view+json": {
       "model_id": "1957b67c47634797a9a441bb6128fd8b",
       "version_major": 2,
       "version_minor": 0
      },
      "text/plain": [
       "Output()"
      ]
     },
     "metadata": {},
     "output_type": "display_data"
    }
   ],
   "source": [
    "\"%pip install pandas numpy matplotlib seaborn scikit-learn keras tensorflow\"\n",
    "import pandas as pd\n",
    "import numpy as np\n",
    "import matplotlib.pyplot as plt\n",
    "import seaborn as sns\n",
    "from sklearn import preprocessing\n",
    "import keras \n",
    "import tensorflow as tf\n",
    "\n",
    "ipl = pd.read_csv(r\"C:\\Users\\dell\\Desktop\\Python projects\\IPL Score prediction project\\ipl_data.csv\")\n",
    "ipl.head()\n",
    "#Dropping certain features \n",
    "df = ipl.drop(['date', 'runs', 'wickets', 'overs', 'runs_last_5', 'wickets_last_5','mid', 'striker', 'non-striker'], axis =1)\n",
    "X = df.drop(['total'], axis =1)\n",
    "y = df['total']\n",
    "#Label Encoding\n",
    "\n",
    "from sklearn.preprocessing import LabelEncoder\n",
    "\n",
    "# Create a LabelEncoder object for each categorical feature\n",
    "venue_encoder = LabelEncoder()\n",
    "batting_team_encoder = LabelEncoder()\n",
    "bowling_team_encoder = LabelEncoder()\n",
    "striker_encoder = LabelEncoder()\n",
    "bowler_encoder = LabelEncoder()\n",
    "\n",
    "# Fit and transform the categorical features with label encoding\n",
    "X['venue'] = venue_encoder.fit_transform(X['venue'])\n",
    "X['bat_team'] = batting_team_encoder.fit_transform(X['bat_team'])\n",
    "X['bowl_team'] = bowling_team_encoder.fit_transform(X['bowl_team'])\n",
    "X['batsman'] = striker_encoder.fit_transform(X['batsman'])\n",
    "X['bowler'] = bowler_encoder.fit_transform(X['bowler'])\n",
    "# Train test Split \n",
    "from sklearn.model_selection import train_test_split\n",
    "X_train, X_test, y_train, y_test = train_test_split(X, y, test_size=0.3, random_state=42)\n",
    "from sklearn.preprocessing import MinMaxScaler\n",
    "\n",
    "scaler = MinMaxScaler()\n",
    "\n",
    "# Fit the scaler on the training data and transform both training and testing data\n",
    "X_train_scaled = scaler.fit_transform(X_train)\n",
    "X_test_scaled = scaler.transform(X_test)\n",
    "# Define the neural network model\n",
    "model = keras.Sequential([\n",
    "\tkeras.layers.Input( shape=(X_train_scaled.shape[1],)), # Input layer\n",
    "\tkeras.layers.Dense(512, activation='relu'), # Hidden layer with 512 units and ReLU activation\n",
    "\tkeras.layers.Dense(216, activation='relu'), # Hidden layer with 216 units and ReLU activation\n",
    "\tkeras.layers.Dense(1, activation='linear') # Output layer with linear activation for regression\n",
    "])\n",
    "\n",
    "# Compile the model with Huber loss\n",
    "huber_loss = tf.keras.losses.Huber(delta=1.0) # You can adjust the 'delta' parameter as needed\n",
    "model.compile(optimizer='adam', loss=huber_loss) # Use Huber loss for regression\n",
    "# Train the model\n",
    "model.fit(X_train_scaled, y_train, epochs=50, batch_size=64, validation_data=(X_test_scaled, y_test))\n",
    "# Make predictions\n",
    "predictions = model.predict(X_test_scaled)\n",
    "\n",
    "from sklearn.metrics import mean_absolute_error,mean_squared_error\n",
    "mean_absolute_error(y_test,predictions)\n",
    "import ipywidgets as widgets\n",
    "from IPython.display import display, clear_output\n",
    "\n",
    "import warnings\n",
    "warnings.filterwarnings(\"ignore\")\n",
    "\n",
    "venue = widgets.Dropdown(options=df['venue'].unique().tolist(),description='Select Venue:')\n",
    "batting_team = widgets.Dropdown(options =df['bat_team'].unique().tolist(), description='Select Batting Team:')\n",
    "bowling_team = widgets.Dropdown(options=df['bowl_team'].unique().tolist(), description='Select Batting Team:')\n",
    "striker = widgets.Dropdown(options=df['batsman'].unique().tolist(), description='Select Striker:')\n",
    "bowler = widgets.Dropdown(options=df['bowler'].unique().tolist(), description='Select Bowler:')\n",
    "\n",
    "predict_button = widgets.Button(description=\"Predict Score\")\n",
    "\n",
    "def predict_score(b):\n",
    "\twith output:\n",
    "\t\tclear_output() # Clear the previous output\n",
    "\t\t\n",
    "\n",
    "\t\t# Decode the encoded values back to their original values\n",
    "\t\tdecoded_venue = venue_encoder.transform([venue.value])\n",
    "\t\tdecoded_batting_team = batting_team_encoder.transform([batting_team.value])\n",
    "\t\tdecoded_bowling_team = bowling_team_encoder.transform([bowling_team.value])\n",
    "\t\tdecoded_striker = striker_encoder.transform([striker.value])\n",
    "\t\tdecoded_bowler = bowler_encoder.transform([bowler.value])\n",
    "\n",
    "\n",
    "\t\tinput = np.array([decoded_venue, decoded_batting_team, decoded_bowling_team,decoded_striker, decoded_bowler])\n",
    "\t\tinput = input.reshape(1,5)\n",
    "\t\tinput = scaler.transform(input)\n",
    "\t\t#print(input)\n",
    "\t\tpredicted_score = model.predict(input)\n",
    "\t\tpredicted_score = int(predicted_score[0,0])\n",
    "\n",
    "\t\tprint(predicted_score)\n",
    "predict_button.on_click(predict_score)\n",
    "output = widgets.Output()\n",
    "display(venue, batting_team, bowling_team, striker, bowler, predict_button, output)\n",
    "\n"
   ]
  }
 ],
 "metadata": {
  "kernelspec": {
   "display_name": "Python 3",
   "language": "python",
   "name": "python3"
  },
  "language_info": {
   "codemirror_mode": {
    "name": "ipython",
    "version": 3
   },
   "file_extension": ".py",
   "mimetype": "text/x-python",
   "name": "python",
   "nbconvert_exporter": "python",
   "pygments_lexer": "ipython3",
   "version": "3.11.3"
  }
 },
 "nbformat": 4,
 "nbformat_minor": 2
}
